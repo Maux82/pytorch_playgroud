{
 "cells": [
  {
   "cell_type": "code",
   "execution_count": 2,
   "metadata": {},
   "outputs": [],
   "source": [
    "import math\n",
    "import torch\n",
    "import gpytorch\n",
    "from matplotlib import pyplot as plt\n",
    "\n",
    "%matplotlib inline\n",
    "%load_ext autoreload\n",
    "%autoreload 2"
   ]
  },
  {
   "cell_type": "markdown",
   "metadata": {},
   "source": [
    "## Gp with GPpytorch\n",
    "- basic example \n",
    "https://github.com/cornellius-gp/gpytorch/blob/master/examples/01_Exact_GPs/Simple_GP_Regression.ipynb"
   ]
  },
  {
   "cell_type": "code",
   "execution_count": 3,
   "metadata": {},
   "outputs": [],
   "source": [
    "# Training data is 100 points in [0,1] inclusive regularly spaced\n",
    "train_x = torch.linspace(0, 1, 100)\n",
    "# True function is sin(2*pi*x) with Gaussian noise\n",
    "train_y = torch.sin(train_x * (2 * math.pi)) + torch.randn(train_x.size()) * math.sqrt(0.04)"
   ]
  },
  {
   "cell_type": "code",
   "execution_count": 4,
   "metadata": {},
   "outputs": [],
   "source": [
    " #We will use the simplest form of GP model, exact inference\n",
    "class ExactGPModel(gpytorch.models.ExactGP):\n",
    "    def __init__(self, train_x, train_y, likelihood):\n",
    "        super(ExactGPModel, self).__init__(train_x, train_y, likelihood)\n",
    "        self.mean_module = gpytorch.means.ConstantMean()\n",
    "        self.covar_module = gpytorch.kernels.ScaleKernel(gpytorch.kernels.RBFKernel())\n",
    "    \n",
    "    def forward(self, x):\n",
    "        mean_x = self.mean_module(x)\n",
    "        covar_x = self.covar_module(x)\n",
    "        return gpytorch.distributions.MultivariateNormal(mean_x, covar_x)\n",
    "\n",
    "# initialize likelihood and model\n",
    "likelihood = gpytorch.likelihoods.GaussianLikelihood()\n",
    "model = ExactGPModel(train_x, train_y, likelihood)"
   ]
  },
  {
   "cell_type": "code",
   "execution_count": 5,
   "metadata": {},
   "outputs": [
    {
     "name": "stdout",
     "output_type": "stream",
     "text": [
      "Iter 1/50 - Loss: 0.944   lengthscale: 0.693   noise: 0.693\n",
      "Iter 2/50 - Loss: 0.913   lengthscale: 0.644   noise: 0.644\n",
      "Iter 3/50 - Loss: 0.879   lengthscale: 0.598   noise: 0.598\n",
      "Iter 4/50 - Loss: 0.842   lengthscale: 0.555   noise: 0.554\n",
      "Iter 5/50 - Loss: 0.800   lengthscale: 0.514   noise: 0.513\n",
      "Iter 6/50 - Loss: 0.752   lengthscale: 0.475   noise: 0.474\n",
      "Iter 7/50 - Loss: 0.702   lengthscale: 0.439   noise: 0.437\n",
      "Iter 8/50 - Loss: 0.650   lengthscale: 0.404   noise: 0.402\n",
      "Iter 9/50 - Loss: 0.601   lengthscale: 0.372   noise: 0.369\n",
      "Iter 10/50 - Loss: 0.556   lengthscale: 0.342   noise: 0.339\n",
      "Iter 11/50 - Loss: 0.516   lengthscale: 0.315   noise: 0.310\n",
      "Iter 12/50 - Loss: 0.480   lengthscale: 0.292   noise: 0.284\n",
      "Iter 13/50 - Loss: 0.445   lengthscale: 0.272   noise: 0.259\n",
      "Iter 14/50 - Loss: 0.412   lengthscale: 0.256   noise: 0.237\n",
      "Iter 15/50 - Loss: 0.380   lengthscale: 0.243   noise: 0.216\n",
      "Iter 16/50 - Loss: 0.348   lengthscale: 0.232   noise: 0.196\n",
      "Iter 17/50 - Loss: 0.317   lengthscale: 0.224   noise: 0.179\n",
      "Iter 18/50 - Loss: 0.287   lengthscale: 0.219   noise: 0.163\n",
      "Iter 19/50 - Loss: 0.257   lengthscale: 0.215   noise: 0.148\n",
      "Iter 20/50 - Loss: 0.227   lengthscale: 0.214   noise: 0.135\n",
      "Iter 21/50 - Loss: 0.199   lengthscale: 0.214   noise: 0.122\n",
      "Iter 22/50 - Loss: 0.172   lengthscale: 0.215   noise: 0.111\n",
      "Iter 23/50 - Loss: 0.146   lengthscale: 0.218   noise: 0.101\n",
      "Iter 24/50 - Loss: 0.122   lengthscale: 0.222   noise: 0.092\n",
      "Iter 25/50 - Loss: 0.100   lengthscale: 0.227   noise: 0.084\n",
      "Iter 26/50 - Loss: 0.080   lengthscale: 0.233   noise: 0.077\n",
      "Iter 27/50 - Loss: 0.063   lengthscale: 0.240   noise: 0.071\n",
      "Iter 28/50 - Loss: 0.049   lengthscale: 0.248   noise: 0.065\n",
      "Iter 29/50 - Loss: 0.037   lengthscale: 0.257   noise: 0.060\n",
      "Iter 30/50 - Loss: 0.029   lengthscale: 0.266   noise: 0.055\n",
      "Iter 31/50 - Loss: 0.024   lengthscale: 0.275   noise: 0.051\n",
      "Iter 32/50 - Loss: 0.022   lengthscale: 0.284   noise: 0.048\n",
      "Iter 33/50 - Loss: 0.022   lengthscale: 0.292   noise: 0.045\n",
      "Iter 34/50 - Loss: 0.025   lengthscale: 0.300   noise: 0.043\n",
      "Iter 35/50 - Loss: 0.029   lengthscale: 0.306   noise: 0.040\n",
      "Iter 36/50 - Loss: 0.033   lengthscale: 0.311   noise: 0.039\n",
      "Iter 37/50 - Loss: 0.038   lengthscale: 0.313   noise: 0.037\n",
      "Iter 38/50 - Loss: 0.041   lengthscale: 0.314   noise: 0.036\n",
      "Iter 39/50 - Loss: 0.044   lengthscale: 0.312   noise: 0.036\n",
      "Iter 40/50 - Loss: 0.045   lengthscale: 0.309   noise: 0.035\n",
      "Iter 41/50 - Loss: 0.045   lengthscale: 0.304   noise: 0.035\n",
      "Iter 42/50 - Loss: 0.044   lengthscale: 0.299   noise: 0.035\n",
      "Iter 43/50 - Loss: 0.042   lengthscale: 0.294   noise: 0.036\n",
      "Iter 44/50 - Loss: 0.040   lengthscale: 0.288   noise: 0.036\n",
      "Iter 45/50 - Loss: 0.037   lengthscale: 0.283   noise: 0.037\n",
      "Iter 46/50 - Loss: 0.034   lengthscale: 0.279   noise: 0.038\n",
      "Iter 47/50 - Loss: 0.032   lengthscale: 0.275   noise: 0.039\n",
      "Iter 48/50 - Loss: 0.029   lengthscale: 0.272   noise: 0.040\n",
      "Iter 49/50 - Loss: 0.027   lengthscale: 0.270   noise: 0.041\n",
      "Iter 50/50 - Loss: 0.026   lengthscale: 0.269   noise: 0.042\n"
     ]
    }
   ],
   "source": [
    "# this is for running the notebook in our testing framework\n",
    "import os\n",
    "smoke_test = ('CI' in os.environ)\n",
    "training_iter = 2 if smoke_test else 50\n",
    "\n",
    "\n",
    "# Find optimal model hyperparameters\n",
    "model.train()\n",
    "likelihood.train()\n",
    "\n",
    "# Use the adam optimizer\n",
    "optimizer = torch.optim.Adam(model.parameters(), lr=0.1)  # Includes GaussianLikelihood parameters\n",
    "\n",
    "# \"Loss\" for GPs - the marginal log likelihood\n",
    "mll = gpytorch.mlls.ExactMarginalLogLikelihood(likelihood, model)\n",
    "\n",
    "for i in range(training_iter):\n",
    "    # Zero gradients from previous iteration\n",
    "    optimizer.zero_grad()\n",
    "    # Output from model\n",
    "    output = model(train_x)\n",
    "    # Calc loss and backprop gradients\n",
    "    loss = -mll(output, train_y)\n",
    "    loss.backward()\n",
    "    print('Iter %d/%d - Loss: %.3f   lengthscale: %.3f   noise: %.3f' % (\n",
    "        i + 1, training_iter, loss.item(),\n",
    "        model.covar_module.base_kernel.lengthscale.item(),\n",
    "        model.likelihood.noise.item()\n",
    "    ))\n",
    "    optimizer.step()"
   ]
  },
  {
   "cell_type": "code",
   "execution_count": 15,
   "metadata": {},
   "outputs": [],
   "source": [
    "# Get into evaluation (predictive posterior) mode\n",
    "model.eval()\n",
    "likelihood.eval()\n",
    "\n",
    "# Test points are regularly spaced along [0,1]\n",
    "# Make predictions by feeding model through likelihood\n",
    "with torch.no_grad(), gpytorch.settings.fast_pred_var():\n",
    "    test_x = torch.linspace(0, 1, 5)\n",
    "    observed_pred = likelihood(model(test_x))"
   ]
  },
  {
   "cell_type": "code",
   "execution_count": 21,
   "metadata": {},
   "outputs": [
    {
     "data": {
      "text/plain": [
       "(tensor([-0.3160,  0.5606, -0.4018, -1.4539, -0.4397]),\n",
       " tensor([ 0.5952,  1.4106,  0.4474, -0.6038,  0.4715]))"
      ]
     },
     "execution_count": 21,
     "metadata": {},
     "output_type": "execute_result"
    }
   ],
   "source": [
    "test_x.numpy()\n",
    "observed_pred.mean\n",
    "observed_pred.confidence_region()"
   ]
  },
  {
   "cell_type": "code",
   "execution_count": 17,
   "metadata": {},
   "outputs": [
    {
     "data": {
      "image/png": "[encoded data removed]",
      "text/plain": [
       "<Figure size 400x300 with 1 Axes>"
      ]
     },
     "metadata": {},
     "output_type": "display_data"
    }
   ],
   "source": [
    "with torch.no_grad():\n",
    "    # Initialize plot\n",
    "    f, ax = plt.subplots(1, 1, figsize=(4, 3))\n",
    "\n",
    "    # Get upper and lower confidence bounds\n",
    "    lower, upper = observed_pred.confidence_region()\n",
    "    # Plot training data as black stars\n",
    "    ax.plot(train_x.numpy(), train_y.numpy(), 'k*')\n",
    "    # Plot predictive means as blue line\n",
    "    ax.plot(test_x.numpy(), observed_pred.mean.numpy(), 'b')\n",
    "    # Shade between the lower and upper confidence bounds\n",
    "    ax.fill_between(test_x.numpy(), lower.numpy(), upper.numpy(), alpha=0.5)\n",
    "    ax.set_ylim([-3, 3])\n",
    "    ax.legend(['Observed Data', 'Mean', 'Confidence'])"
   ]
  }
 ],
 "metadata": {
  "kernelspec": {
   "display_name": "pytorch_new",
   "language": "python",
   "name": "python3"
  },
  "language_info": {
   "codemirror_mode": {
    "name": "ipython",
    "version": 3
   },
   "file_extension": ".py",
   "mimetype": "text/x-python",
   "name": "python",
   "nbconvert_exporter": "python",
   "pygments_lexer": "ipython3",
   "version": "3.10.13"
  }
 },
 "nbformat": 4,
 "nbformat_minor": 2
}
